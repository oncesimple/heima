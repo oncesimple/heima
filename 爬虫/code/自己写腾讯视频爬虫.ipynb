{
 "cells": [
  {
   "cell_type": "code",
   "execution_count": 2,
   "metadata": {
    "ExecuteTime": {
     "end_time": "2020-05-21T07:20:46.454745Z",
     "start_time": "2020-05-21T07:20:45.845263Z"
    }
   },
   "outputs": [
    {
     "data": {
      "text/plain": [
       "'<!DOCTYPE html>\\n<!--[if lte IE 6 ]> <html class=\"ie ie6 lte_ie7 lte_ie8 lte_ie9\" lang=\"zh-CN\"> <![endif]-->\\n<!--[if IE 7 ]> <html class=\"ie ie7 lte_ie7 lte_ie8 lte_ie9\" lang=\"zh-CN\"> <![endif]-->\\n<!--[if IE 8 ]> <html class=\"ie ie8 lte_ie8 lte_ie9\" lang=\"zh-CN\"> <![endif]-->\\n<!--[if IE 9 ]> <html class=\"ie ie9 lte_ie9\" lang=\"zh-CN\"> <![endif]-->\\n<!--[if (gt IE 9)|!(IE)]><!--> <html lang=\"zh-CN\"> <!--<![endif]-->\\n<head itemprop=\"video\" itemscope itemtype=\"http://schema.org/VideoObject\">\\n\\t<meta http-equiv=\"X-UA-Compatible\" content=\"IE=Edge,chrome=1\" r-notemplate=\"true\">\\n<meta name=\"renderer\" content=\"webkit\" />\\n<meta http-equiv=\"content-type\" content=\"text/html;charset=utf-8\">\\n<link rel=\"shortcut icon\" href=\"//v.qq.com/favicon.ico\" />\\n\\n\\t\\n\\t<title>华为创始人兼ceo任正非接受了媒体采访_腾讯视频</title>\\n\\t<meta itemprop=\"url\" content=\"https://v.qq.com/x/page/x0830fdtah4.html\" />\\n\\t<meta itemprop=\"name\" name=\"title\" content=\"华为创始人兼ceo任正非接受了媒体采访_腾讯视频\">\\n\\t<meta name=\"author\" content=\"Tencent VFE Team\" />\\n\\t<meta name=\"keywords\" itemprop=\"keywords\" content=\"华为创始人兼ceo任正非接受了媒体采访,腾讯视频,电影,电视剧,综艺,新闻,财经,音乐,MV,高清,视频,在线观看\">\\n\\t<meta name=\"description\" itemprop=\"description\" content=\"华为创始人兼ceo任正非接受了媒体采访\">\\n\\t<meta itemprop=\"image\" content=\"https://puui.qpic.cn/vpic/0/x0830fdtah4_160_90_3.jpg/0\">\\n\\t<meta itemprop=\"thumbnailUrl\" content=\"https://puui.qpic.cn/vpic/0/x0830fdtah4_160_90_3.jpg/0\">\\n\\t<meta itemprop=\"uploadDate\" content=\"2010-01-01 00:00:00\" />\\n\\t<meta itemprop=\"duration\" content=\"PTNaNS\" />\\n\\t<meta itemprop=\"interactionCount\" content=\"19063\" />\\n\\t<meta itemprop=\"inLanguage\" content=\"\" />\\n\\t<meta itemprop=\"datePublished\" content=\"2010-01-01 00:00:00\" />\\n\\t<meta itemprop=\"contentLocation\" content=\"\" />\\n\\t<meta name=\"twitter:card\" content=\"summary\" />\\n\\t<meta name=\"twitter:url\" property=\"og:url\" content=\"https://v.qq.com/x/page/x0830fdtah4.html\" />\\n\\t<meta name=\"twitter:title\" property=\"og:title\" content=\"华为创始人兼ceo任正非接受了媒体采访_腾讯视频\" />\\n\\t<meta name=\"twitter:description\" property=\"og:description\" content=\"华为创始人兼ceo任正非接受了媒体采访\" />\\n\\t<meta name=\"twitter:image\" property=\"og:image\" content=\"https://puui.qpic.cn/vpic/0/x0830fdtah4_160_90_3.jpg/0\" />\\n\\t<link rel=\"canonical\" href=\"https://v.qq.com/x/page/x0830fdtah4.html\" />\\n\\t\\n\\n\\t<script type=\"text/javascript\">window.player_time_speed={start:(new Date()).getTime()};</script>\\n\\t<script>function getUrlParam(e,t){t=t||document.location.toString();var r=new RegExp(\"[?&#]\"+e+\"=([^&#]+)\",\"i\"),a=r.exec(t);return a&&a.length>1?a[1]:\"\"}function getPtag(){var e=getUrlParam(\"ptag\")||getUrlParam(\"PTAG\");return e?e+=\"#{defaultTag}#1\":e=/https?:\\\\/\\\\/(.+?)(\\\\/|$)/.test(document.referrer)?RegExp.$1+\"#{defaultTag}#2\":\"v_qq_com#{defaultTag}#3\",encodeURIComponent(e.replace(\"{defaultTag}\",\"v.play.adaptor\"))}function appendSearch(e){var t,r,a=location.search||\"\",n=[],o=[];if(a.length>0)for(a=a.substr(1),o=a.split(\"&\"),t=0,r=o.length;t<r;t++)/^ptag=/i.test(o[t])||/^vid=/i.test(o[t])||n.push(o[t]);return n.length>0&&(e=e+(-1==e.indexOf(\"?\")?\"?\":\"&\")+n.join(\"&\")),e}var istablet=/android/i.test(navigator.userAgent)&&!/mobile/i.test(navigator.userAgent)&&!/youku/i.test(navigator.userAgent);if(!istablet&&!/ipad/i.test(navigator.userAgent)&&/(android)|(iphone)|(ipod)|(mqqbrowser)/i.test(navigator.userAgent)&&!/MI PAD/.test(navigator.userAgent)&&(\"string\"!=typeof document.referrer||-1==document.referrer.indexOf(\"m.v.qq.com/\")))try{var ptag=getUrlParam(\"ptag\")||getUrlParam(\"PTAG\")||\"v.play.adaptor\",url=\\'https://m.v.qq.com/play.html?&vid=x0830fdtah4&ptag=\\'+getPtag()+(document.referrer?\"&mreferrer=\"+encodeURIComponent(document.referrer):\"\");location.replace(appendSearch(url))}catch(e){}</script>\\n    <script r-notemplate=\"true\">\\n    try {\\n        !function(){var e=[\"lite\"],t=[\"tesla\"];function n(e){var t=document.createElement(\"style\"),n=document.head||document.getElementsByTagName(\"head\")[0];t.type=\"text/css\",t.styleSheet?t.styleSheet.cssText=e:t.appendChild(document.createTextNode(e)),n.appendChild(t)}function o(e,t,n){var o=\"\";if(n>0){var i=new Date;i.setTime(i.getTime()+24*n*60*60*1e3),o=\"; expires=\"+i.toUTCString()}else o=\";expires=Thu, 01 Jan 1970 00:00:01 GMT\";document.cookie=e+\"=\"+(t||\"\")+o+\"; path=/\"}function i(e){for(var t=e+\"=\",n=document.cookie.split(\";\"),o=0;o<n.length;o++){for(var i=n[o];\" \"==i.charAt(0);)i=i.substring(1,i.length);if(0==i.indexOf(t))return i.substring(t.length,i.length)}return null}function a(e){for(var t={},n=(\"?\"===e[0]?e.substr(1):e).split(\"&\"),o=0;o<n.length;o++){var i=n[o].split(\"=\");t[decodeURIComponent(i[0])]=decodeURIComponent(i[1]||\"\")}return t}!function(){var r=a(location&&location.search||\"\"),c=navigator.userAgent.toLocaleLowerCase(),d=r.mode,l=i(\"__mode\");try{t.some(function(e){return c.match(e)})}catch(e){}(d&&~e.indexOf(d)||l&&~e.indexOf(l))&&(n(\".__client_download__,.__lite_hide__{display:none !important}\"),function(){var e=a(location&&location.search||\"\"),t=e&&e.scale||\"\";t?o(\"__scale\",t,30):t=i(\"__scale\");var r=(document.body&&document.body||document.getElementsByTagName(\"body\")).clientWidth||1e3;if((t=+t)&&\"number\"==typeof t&&!isNaN(t)){var c=\"html,body{overflow-x: hidden;}body{transform: scale(\"+t+\");transform-origin: center top;}\";r<1280&&(c+=\"body{min-width: 990px;}\",c+=\".site_head .head_inner{position: relative;}\"),n(c)}}()),window.channelInfos&&\"choice\"===window.channelInfos.channelId&&(d&&~e.indexOf(d)?o(\"__mode\",d,30):o(\"__mode\",\"\",-1))}()}();\\n    } catch (e) { }\\n</script>\\n\\t<link rel=\"stylesheet\" href=\"//vm.gtimg.cn/c/=/tencentvideo/vstyle/web/v6/style/css/head_simple.css,head_simple.ie.css,/tencentvideo/vstyle/web/v5/style/css/base.css,play/play_base.css,play/play.css,play/play_other.css,/tencentvideo/txp/style/txp_barrage.css?max_age=604800&v=20200520\" r-notemplate=\"true\"/>\\n<!--[if lte IE 8]><script type=\"text/javascript\">document.createElement(\\'svg\\');document.createElement(\\'path\\');document.createElement(\\'use\\');document.createElement(\\'symbol\\');document.createElement(\\'circle\\');document.createElement(\\'defs\\');document.createElement(\\'polygon\\');document.createElement(\\'linearGradient\\')</script><![endif]-->\\n<style>\\n.site_head {\\n    background: #2e2e36;\\n}\\n</style>\\n<style>\\n.pause_vv .txp_icon_cirlce circle{\\n    stroke: none !important;\\n    animation: none !important;\\n}\\n</style>\\n<script type=\"text/javascript\">\\n    try {\\n        document.domain = \"qq.com\";\\n    } catch (e) {\\n    }\\n    function picerr(obj, num) {\\n        obj.onerror = null;\\n        var p = \"blank\";\\n        if (typeof num == \"number\") {\\n            if (num == 2 || num == 5 || num == 9 || num == 11 || num == 12 || num == 14 || num == 15 || num == 16 || num == 19) {\\n                p = \"pic_h\";\\n            } else if (num == 1 || num == 6 || num == 7 || num == 13 || num == 17) {\\n                p = \"pic_v\";\\n            } else {\\n                p = \"pic_s\";\\n            }\\n        } else {\\n            if (num == \"h\" || num == \"v\" || num == \"s\") {\\n                p = \"pic_\" + num;\\n            } else if (num == \"a\") {\\n                p = \"avatar\";\\n            }\\n        }\\n        obj.src = \"//i.gtimg.cn/qqlive/images/20150608/\" + p + \".png\";\\n    }\\n</script>\\n\\n\\t<script type=\"text/javascript\" r-notemplate=\"true\">\\nvar GRAY_NEW_VIDEO_LIST, GRAY_SCF_DOKI_STAR;\\ntry {\\n    GRAY_NEW_VIDEO_LIST = false;\\n    GRAY_SCF_DOKI_STAR = false;\\n} catch (e) {}\\n\\n(function() {\\n    var a = document.getElementsByTagName(\\'html\\')[0];\\n    if (a && typeof a.className == \"string\" && a.className.indexOf(\"lte_ie8\") > -1) {\\n        var s = \"CSS1Compat\" == document.compatMode ? document.documentElement.clientWidth : document.body.clientWidth,\\n            b = a.className;\\n        if (s < 1279) {\\n            a.className = b.replace(/(?:^|s)screen_ms(?!S)/g, \\'\\') + \" screen_xs\";\\n        } else if (s < 1599) {\\n            a.className = b.replace(/(?:^|s)screen_xs(?!S)/g, \\'\\') + \" screen_ms\";\\n        } else {\\n            a.className = b.replace(/(?:^|s)screen_xs(?!S)/g, \\'\\').replace(/(?:^|s)screen_ms(?!S)/g, \\'\\');\\n        }\\n    }\\n})();\\nvar LIST_INFO = {\"vid\":[\"z0924qrjxhy\",\"a302393bbgi\",\"j3043bv8fv1\",\"z0746u5p6l3\",\"a0924eboaxj\",\"u07693d9gsy\",\"e09212q5qm0\",\"z0948s05ch0\",\"l0851lsjvw6\",\"e3009m0vwwm\",\"i0922urfcxi\",\"b0913mk4oqr\",\"e09363jj308\",\"z0917yj3kxz\",\"r08811dcnnc\",\"e08753d4qlu\",\"b30286hviin\",\"l0891cdgzy1\",\"p0907s375cm\",\"w3008d9do6z\"],\"data\":{\"x0830fdtah4\":{\"publish_date\":\"2010-01-01 00:00:00\",\"leading_actor_id\":null,\"duration\":\"1508\",\"cover_list\":[],\"guests\":null,\"race_teams_id\":null,\"type_name\":\"新闻\",\"tag\":[\"中兴\",\"华为荣耀\",\"孟晚舟\",\"轮值ceo\",\"公司创始人\",\"中国媒体\",\"魅族\",\"小米\"],\"singer_id\":null,\"episode\":\"0\",\"race_stars_id\":null,\"srcsite_name\":\"\",\"type\":23,\"title\":\"华为创始人兼ceo任正非接受了媒体采访\",\"leading_actor\":null,\"show_type\":\"1\",\"singer_name\":null,\"danmu_status\":0,\"second_title\":null,\"positive_trailer\":0,\"athlete\":null,\"mv_stars\":null,\"trytime_second\":null,\"c_full\":0,\"update_flag\":null,\"first_recommand\":\"1494456+\",\"desc\":null,\"pioneer_tag\":null,\"begin_time\":\"0\",\"relative_covers\":null,\"upload_qq\":\"139832444\",\"category_map\":[10942,\"新闻人物\",1189,\"新闻人物\",23,\"新闻\"],\"is_trailer\":0,\"stars_name\":null,\"pic_640_360\":\"http://puui.qpic.cn/vpic/0/x0830fdtah4.png/0\",\"c_title_segment\":\"0|0\",\"guests_id\":null,\"presenter_id\":null,\"upload_src\":\"108\",\"athlete_id\":null,\"sec_recommand\":\"1494480+\",\"costar_id\":null,\"relative_stars_id\":null,\"relative_stars\":null,\"drm\":0,\"modify_time\":\"2019-06-20 04:15:56\",\"tail_time\":0,\"valid_tag_id\":\"\",\"vid\":\"x0830fdtah4\",\"pic_url\":\"\",\"costar\":null,\"race_teams_name\":null,\"c_title_output\":\"华为创始人兼ceo任正非接受了媒体采访\",\"director_id\":null,\"title_en\":null,\"stars\":null,\"danmu\":0,\"mv_stars_id\":null,\"pay_status\":null,\"playright\":[\"1\",\"2\",\"3\",\"4\",\"5\",\"8\",\"9\",\"10\",\"18\",\"20\",\"21\",\"22\",\"40\",\"57\",\"61\"],\"presenter\":null,\"race_stars\":null,\"view_all_count\":19063,\"c_tags_flag\":0,\"c_has_adv_danmu\":null,\"head_time\":0,\"state\":4,\"copyright_id\":\"107\",\"pic160x90\":\"http://puui.qpic.cn/vpic/0/x0830fdtah4_160_90_3.jpg/0\",\"director\":null,\"famous_id\":null,\"pioneer_tag_ids\":null,\"trytime\":null,\"fam"
      ]
     },
     "execution_count": 2,
     "metadata": {},
     "output_type": "execute_result"
    },
    {
     "data": {
      "text/html": [
       "<b>limit_output extension: Maximum message size of 10000 exceeded with 153384 characters</b>"
      ]
     },
     "metadata": {},
     "output_type": "display_data"
    }
   ],
   "source": [
    "import requests\n",
    "from lxml import etree\n",
    "\n",
    "\n",
    "def gethtml(url):\n",
    "    html = requests.get(url).text\n",
    "    return html\n",
    "\n",
    "\n",
    "url = \"https://v.qq.com/x/page/x0830fdtah4.html\"\n",
    "html = gethtml(url)\n",
    "html"
   ]
  },
  {
   "cell_type": "code",
   "execution_count": null,
   "metadata": {
    "pycharm": {
     "is_executing": false
    }
   },
   "outputs": [],
   "source": [
    "html = etree.HTML(html)  \n"
   ]
  }
 ],
 "metadata": {
  "hide_input": false,
  "kernelspec": {
   "display_name": "Python 3",
   "language": "python",
   "name": "python3"
  },
  "language_info": {
   "codemirror_mode": {
    "name": "ipython",
    "version": 3
   },
   "file_extension": ".py",
   "mimetype": "text/x-python",
   "name": "python",
   "nbconvert_exporter": "python",
   "pygments_lexer": "ipython3",
   "version": "3.7.2"
  },
  "latex_envs": {
   "LaTeX_envs_menu_present": true,
   "autoclose": false,
   "autocomplete": true,
   "bibliofile": "biblio.bib",
   "cite_by": "apalike",
   "current_citInitial": 1,
   "eqLabelWithNumbers": true,
   "eqNumInitial": 1,
   "hotkeys": {
    "equation": "Ctrl-E",
    "itemize": "Ctrl-I"
   },
   "labels_anchors": false,
   "latex_user_defs": false,
   "report_style_numbering": false,
   "user_envs_cfg": false
  },
  "nbTranslate": {
   "displayLangs": [
    "*"
   ],
   "hotkey": "alt-t",
   "langInMainMenu": true,
   "sourceLang": "en",
   "targetLang": "fr",
   "useGoogleTranslate": true
  },
  "pycharm": {
   "stem_cell": {
    "cell_type": "raw",
    "metadata": {
     "collapsed": false
    },
    "source": []
   }
  },
  "toc": {
   "base_numbering": 1,
   "nav_menu": {},
   "number_sections": true,
   "sideBar": true,
   "skip_h1_title": false,
   "title_cell": "Table of Contents",
   "title_sidebar": "Contents",
   "toc_cell": false,
   "toc_position": {},
   "toc_section_display": true,
   "toc_window_display": false
  },
  "varInspector": {
   "cols": {
    "lenName": 16,
    "lenType": 16,
    "lenVar": 40
   },
   "kernels_config": {
    "python": {
     "delete_cmd_postfix": "",
     "delete_cmd_prefix": "del ",
     "library": "var_list.py",
     "varRefreshCmd": "print(var_dic_list())"
    },
    "r": {
     "delete_cmd_postfix": ") ",
     "delete_cmd_prefix": "rm(",
     "library": "var_list.r",
     "varRefreshCmd": "cat(var_dic_list()) "
    }
   },
   "types_to_exclude": [
    "module",
    "function",
    "builtin_function_or_method",
    "instance",
    "_Feature"
   ],
   "window_display": false
  }
 },
 "nbformat": 4,
 "nbformat_minor": 4
}
